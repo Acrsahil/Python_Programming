{
 "cells": [
  {
   "cell_type": "markdown",
   "id": "a0f2da34",
   "metadata": {},
   "source": [
    "# Python Learning"
   ]
  },
  {
   "cell_type": "markdown",
   "id": "4a19e757",
   "metadata": {},
   "source": [
    "## Dictonaries "
   ]
  },
  {
   "cell_type": "code",
   "execution_count": 2,
   "id": "7d156e0d",
   "metadata": {},
   "outputs": [
    {
     "data": {
      "text/plain": [
       "9851133606"
      ]
     },
     "execution_count": 2,
     "metadata": {},
     "output_type": "execute_result"
    }
   ],
   "source": [
    "d={\"tom\":9851133606,\"rob\":732573029,\"joe\":7320923203}\n",
    "d[\"tom\"]"
   ]
  },
  {
   "cell_type": "markdown",
   "id": "d7ecc2ef",
   "metadata": {},
   "source": [
    "### Add a telephone number"
   ]
  },
  {
   "cell_type": "code",
   "execution_count": 15,
   "id": "90e9a2bb",
   "metadata": {},
   "outputs": [
    {
     "data": {
      "text/plain": [
       "{'tom': 9851133606, 'rob': 732573029, 'joe': 7320923203, 'sam': 7395679879}"
      ]
     },
     "execution_count": 15,
     "metadata": {},
     "output_type": "execute_result"
    }
   ],
   "source": [
    "d[\"sam\"]=7395679879\n",
    "d"
   ]
  },
  {
   "cell_type": "markdown",
   "id": "6877ed0c",
   "metadata": {},
   "source": [
    "### Delete entries in Dictonary"
   ]
  },
  {
   "cell_type": "code",
   "execution_count": 16,
   "id": "37aa510d",
   "metadata": {},
   "outputs": [
    {
     "data": {
      "text/plain": [
       "{'tom': 9851133606, 'rob': 732573029, 'joe': 7320923203}"
      ]
     },
     "execution_count": 16,
     "metadata": {},
     "output_type": "execute_result"
    }
   ],
   "source": [
    "del d[\"sam\"]\n",
    "d"
   ]
  },
  {
   "cell_type": "code",
   "execution_count": 1,
   "id": "fb21077d",
   "metadata": {},
   "outputs": [
    {
     "ename": "NameError",
     "evalue": "name 'd' is not defined",
     "output_type": "error",
     "traceback": [
      "\u001b[0;31m---------------------------------------------------------------------------\u001b[0m",
      "\u001b[0;31mNameError\u001b[0m                                 Traceback (most recent call last)",
      "\u001b[0;32m/tmp/ipykernel_6152/1484833146.py\u001b[0m in \u001b[0;36m<module>\u001b[0;34m\u001b[0m\n\u001b[0;32m----> 1\u001b[0;31m \u001b[0;32mfor\u001b[0m \u001b[0mkey\u001b[0m \u001b[0;32min\u001b[0m \u001b[0md\u001b[0m\u001b[0;34m:\u001b[0m\u001b[0;34m\u001b[0m\u001b[0;34m\u001b[0m\u001b[0m\n\u001b[0m\u001b[1;32m      2\u001b[0m     \u001b[0mprint\u001b[0m\u001b[0;34m(\u001b[0m\u001b[0;34m\"key:\"\u001b[0m\u001b[0;34m,\u001b[0m\u001b[0mkey\u001b[0m\u001b[0;34m,\u001b[0m\u001b[0;34m\"value:\"\u001b[0m\u001b[0;34m,\u001b[0m\u001b[0md\u001b[0m\u001b[0;34m[\u001b[0m\u001b[0mkey\u001b[0m\u001b[0;34m]\u001b[0m\u001b[0;34m)\u001b[0m\u001b[0;34m\u001b[0m\u001b[0;34m\u001b[0m\u001b[0m\n",
      "\u001b[0;31mNameError\u001b[0m: name 'd' is not defined"
     ]
    }
   ],
   "source": [
    "for key in d:\n",
    "    print(\"key:\",key,\"value:\",d[key])"
   ]
  },
  {
   "cell_type": "code",
   "execution_count": 20,
   "id": "1e16f34c",
   "metadata": {},
   "outputs": [
    {
     "data": {
      "text/plain": [
       "True"
      ]
     },
     "execution_count": 20,
     "metadata": {},
     "output_type": "execute_result"
    }
   ],
   "source": [
    "\"tom\" in d"
   ]
  },
  {
   "cell_type": "code",
   "execution_count": 22,
   "id": "9baa4cc1",
   "metadata": {},
   "outputs": [
    {
     "data": {
      "text/plain": [
       "False"
      ]
     },
     "execution_count": 22,
     "metadata": {},
     "output_type": "execute_result"
    }
   ],
   "source": [
    "\"samir\" in key"
   ]
  },
  {
   "cell_type": "code",
   "execution_count": 24,
   "id": "f1f10f09",
   "metadata": {},
   "outputs": [],
   "source": [
    "d.clear()"
   ]
  },
  {
   "cell_type": "code",
   "execution_count": 25,
   "id": "6e6033be",
   "metadata": {},
   "outputs": [
    {
     "data": {
      "text/plain": [
       "{}"
      ]
     },
     "execution_count": 25,
     "metadata": {},
     "output_type": "execute_result"
    }
   ],
   "source": [
    "d"
   ]
  },
  {
   "cell_type": "markdown",
   "id": "a0278df0",
   "metadata": {},
   "source": [
    "## Tuple: tuple is a list of values grouped together"
   ]
  },
  {
   "cell_type": "code",
   "execution_count": 27,
   "id": "6d3627d6",
   "metadata": {},
   "outputs": [
    {
     "data": {
      "text/plain": [
       "5"
      ]
     },
     "execution_count": 27,
     "metadata": {},
     "output_type": "execute_result"
    }
   ],
   "source": [
    "point=(5,9)\n",
    "point[0]"
   ]
  },
  {
   "cell_type": "code",
   "execution_count": 29,
   "id": "aadfbfe3",
   "metadata": {},
   "outputs": [
    {
     "data": {
      "text/plain": [
       "9"
      ]
     },
     "execution_count": 29,
     "metadata": {},
     "output_type": "execute_result"
    }
   ],
   "source": [
    "point[1]\n"
   ]
  },
  {
   "cell_type": "markdown",
   "id": "84c5edf1",
   "metadata": {},
   "source": [
    "### Difference:\n",
    "### list : All values have similar meaning (Homogeneous)\n",
    "### Tuple : All values have different meaning (hetrogeneous)"
   ]
  },
  {
   "cell_type": "markdown",
   "id": "5f2fbac8",
   "metadata": {},
   "source": [
    "List example:"
   ]
  },
  {
   "cell_type": "markdown",
   "id": "a0be90f9",
   "metadata": {},
   "source": [
    "expense_list=[2300,2500,2900,6700]\n",
    "item is an expense \n"
   ]
  },
  {
   "cell_type": "markdown",
   "id": "75ec1e9d",
   "metadata": {},
   "source": [
    "list_of_names=[\"Bob\",\"Tom\",\"Partha\"]\n",
    "item is a name of the person."
   ]
  },
  {
   "cell_type": "code",
   "execution_count": 23,
   "id": "efca0724",
   "metadata": {},
   "outputs": [
    {
     "name": "stdout",
     "output_type": "stream",
     "text": [
      "['diwash', 'Ashish']\n"
     ]
    }
   ],
   "source": [
    "friends = [\"sahil\",\"mukesh\",\"Ashish\",\"sanjilla\"]\n",
    "friends[1] = \"diwash\"\n",
    "print(friends[1:3])"
   ]
  },
  {
   "cell_type": "markdown",
   "id": "72b16417",
   "metadata": {},
   "source": [
    "## List"
   ]
  },
  {
   "cell_type": "code",
   "execution_count": 2,
   "id": "67e468e2",
   "metadata": {},
   "outputs": [
    {
     "name": "stdout",
     "output_type": "stream",
     "text": [
      "2\n",
      "['sahil', 'sahil', 'mukesh', 'Ashish', 'sanjilla']\n",
      "4\n"
     ]
    }
   ],
   "source": [
    "friends = [\"sahil\",\"sahil\",\"mukesh\",\"Ashish\",\"sanjilla\"]\n",
    "luckey_numbers = [3,5,7,9,11,13,15,17,19]\n",
    "print(friends.count(\"sahil\"))\n",
    "print(friends)\n",
    "print(friends.index(\"sanjilla\"))\n"
   ]
  },
  {
   "cell_type": "markdown",
   "id": "8175fd02",
   "metadata": {},
   "source": [
    "## Function of List\n",
    "* extend()\n",
    "* append()\n",
    "* insert(2,'content\")\n",
    "* remove()\n",
    "* clear()\n",
    "* pop()\n",
    "* index(\"context')\n",
    "* count(\"context\")\n",
    "* sort()\n",
    "* reverse()\n",
    "* copy()\n",
    "\n"
   ]
  },
  {
   "cell_type": "code",
   "execution_count": 39,
   "id": "8655b900",
   "metadata": {},
   "outputs": [
    {
     "name": "stdout",
     "output_type": "stream",
     "text": [
      "[]\n"
     ]
    }
   ],
   "source": [
    "friends.sort()\n",
    "friends.clear()\n",
    "print(friends)\n"
   ]
  },
  {
   "cell_type": "markdown",
   "id": "8cded872",
   "metadata": {},
   "source": [
    "## Tuples \n",
    "#### Tuples are similar to list but in Tuple we can't cannge the element similarly in list we can cange the element inside the list.\n"
   ]
  },
  {
   "cell_type": "code",
   "execution_count": 59,
   "id": "1e995ad9",
   "metadata": {},
   "outputs": [
    {
     "name": "stdout",
     "output_type": "stream",
     "text": [
      "(5, 7)\n"
     ]
    }
   ],
   "source": [
    "coordinates = [(4,5),(5,7),(9,10),(20,80)]\n",
    "print(coordinates[1])"
   ]
  },
  {
   "cell_type": "markdown",
   "id": "52852702",
   "metadata": {},
   "source": [
    "## Function\n"
   ]
  },
  {
   "cell_type": "markdown",
   "id": "1048317f",
   "metadata": {},
   "source": [
    "### Print Name "
   ]
  },
  {
   "cell_type": "code",
   "execution_count": 37,
   "id": "3d22379d",
   "metadata": {
    "scrolled": true
   },
   "outputs": [
    {
     "name": "stdout",
     "output_type": "stream",
     "text": [
      "hello Sahil\n",
      "hello Shyam\n",
      "hello Diwash\n"
     ]
    }
   ],
   "source": [
    "def add_name(name):\n",
    "    print(\"hello\"  +name)\n",
    "\n",
    "add_name(\" Sahil\")\n",
    "add_name(\" Shyam\")\n",
    "add_name(\" Diwash\")"
   ]
  },
  {
   "cell_type": "markdown",
   "id": "9aad6fee",
   "metadata": {},
   "source": [
    "### Print Name and Age "
   ]
  },
  {
   "cell_type": "code",
   "execution_count": 48,
   "id": "65ba1843",
   "metadata": {
    "scrolled": true
   },
   "outputs": [
    {
     "name": "stdout",
     "output_type": "stream",
     "text": [
      "hello Sahil, you are 19 years old.\n",
      "hello Shyam, you are 20 years old.\n"
     ]
    }
   ],
   "source": [
    "def add_name(name,age):\n",
    "    print(\"hello\"  +name,\"you are\",age,\"years old.\")\n",
    "    \n",
    "add_name(\" Sahil,\",19)\n",
    "add_name(\" Shyam,\",20)\n"
   ]
  },
  {
   "cell_type": "markdown",
   "id": "a64fb469",
   "metadata": {},
   "source": [
    "### Adding numbers "
   ]
  },
  {
   "cell_type": "code",
   "execution_count": 52,
   "id": "b55fd438",
   "metadata": {},
   "outputs": [
    {
     "name": "stdout",
     "output_type": "stream",
     "text": [
      "Enter the value of x: 5\n",
      "Enter the value of y: 5\n",
      "5 + 5 = 10\n"
     ]
    }
   ],
   "source": [
    "x=int(input(\"Enter the value of x: \"))\n",
    "y=int(input(\"Enter the value of y: \"))\n",
    "def add(x,y):\n",
    "    print(x,\"+\",y,\"=\",x+y)\n",
    "\n",
    "add(x,y)"
   ]
  },
  {
   "cell_type": "markdown",
   "id": "53724b02",
   "metadata": {},
   "source": [
    "### Return Statement "
   ]
  },
  {
   "cell_type": "code",
   "execution_count": 55,
   "id": "ba65f5f4",
   "metadata": {
    "scrolled": true
   },
   "outputs": [
    {
     "name": "stdout",
     "output_type": "stream",
     "text": [
      "125\n"
     ]
    }
   ],
   "source": [
    "def cube(n):\n",
    "    return n*n*n\n",
    "\n",
    "print(cube(5))"
   ]
  },
  {
   "cell_type": "markdown",
   "id": "177d1178",
   "metadata": {},
   "source": [
    "### Adding variable with Return Statement "
   ]
  },
  {
   "cell_type": "code",
   "execution_count": 61,
   "id": "95ce7db3",
   "metadata": {},
   "outputs": [
    {
     "name": "stdout",
     "output_type": "stream",
     "text": [
      "125\n"
     ]
    }
   ],
   "source": [
    "def cube(n):\n",
    "    return n*n*n\n",
    "\n",
    "result=cube(5)\n",
    "print(result)\n",
    "\n"
   ]
  },
  {
   "cell_type": "markdown",
   "id": "cad95cc5",
   "metadata": {},
   "source": [
    "## If Statements"
   ]
  },
  {
   "cell_type": "markdown",
   "id": "ef94ee7f",
   "metadata": {},
   "source": [
    "### If Statements with Bollen using 'or' "
   ]
  },
  {
   "cell_type": "code",
   "execution_count": 12,
   "id": "120737d5",
   "metadata": {},
   "outputs": [
    {
     "name": "stdout",
     "output_type": "stream",
     "text": [
      "You are neither male nor tall\n"
     ]
    }
   ],
   "source": [
    "is_male = False\n",
    "is_tall = False\n",
    "\n",
    "if is_male or is_tall:\n",
    "    print(\"You are a male or tall or both\")\n",
    "else:\n",
    "    print(\"You are neither male nor tall\")"
   ]
  },
  {
   "cell_type": "markdown",
   "id": "082b1378",
   "metadata": {},
   "source": [
    "### If Statements with Bollen using 'and' "
   ]
  },
  {
   "cell_type": "code",
   "execution_count": 17,
   "id": "c9803dbd",
   "metadata": {},
   "outputs": [
    {
     "name": "stdout",
     "output_type": "stream",
     "text": [
      "You are either not male or not tall or both\n"
     ]
    }
   ],
   "source": [
    "is_male = False\n",
    "is_tall = True\n",
    "\n",
    "if is_male and is_tall:\n",
    "    print(\"You are a tall male\")\n",
    "else:\n",
    "    print(\"You are either not male or not tall or both\")"
   ]
  },
  {
   "cell_type": "markdown",
   "id": "2ca39a50",
   "metadata": {},
   "source": [
    "### If Satements using 'not'"
   ]
  },
  {
   "cell_type": "code",
   "execution_count": 30,
   "id": "7cf0850a",
   "metadata": {},
   "outputs": [
    {
     "name": "stdout",
     "output_type": "stream",
     "text": [
      "You are a short male\n"
     ]
    }
   ],
   "source": [
    "is_male = True\n",
    "is_tall = False\n",
    "\n",
    "if is_male and is_tall:\n",
    "    print(\"You are a tall male\")\n",
    "    \n",
    "elif is_male and not(is_tall):\n",
    "    print(\"You are a short male\")\n",
    "    \n",
    "elif not(is_male) and is_tall:\n",
    "    print(\"You are a not male but tall\")  \n",
    "else:\n",
    "    print(\"You are not a male and not tall\")"
   ]
  },
  {
   "cell_type": "markdown",
   "id": "1e8b9aba",
   "metadata": {},
   "source": [
    "###  Greater number using if else statement "
   ]
  },
  {
   "cell_type": "code",
   "execution_count": 33,
   "id": "f18252a2",
   "metadata": {
    "scrolled": true
   },
   "outputs": [
    {
     "name": "stdout",
     "output_type": "stream",
     "text": [
      "The Greatest number is 7\n"
     ]
    }
   ],
   "source": [
    "def greater(num1,num2,num3):\n",
    "    if num1>=num2 and num1>=num3:\n",
    "        print(\"The Greatest number is\",num1)\n",
    "    elif num2>=num1 and num2>=num3:\n",
    "        print(\"The Greatest number is\",num2)\n",
    "    else:\n",
    "        print(\"The Greatest number is\",num3)\n",
    "    return num1,num2,num3\n",
    "n=greater(5,6,7)"
   ]
  },
  {
   "cell_type": "markdown",
   "id": "d18e6b4e",
   "metadata": {},
   "source": [
    "### Simple Calculator using if else Statements"
   ]
  },
  {
   "cell_type": "code",
   "execution_count": 15,
   "id": "db94ec56",
   "metadata": {},
   "outputs": [
    {
     "name": "stdout",
     "output_type": "stream",
     "text": [
      "Enter the value of a: 5\n",
      "Enter the operator: *\n",
      "Enter the value of b: 5\n",
      "25\n"
     ]
    }
   ],
   "source": [
    "a=int(input(\"Enter the value of a: \"))\n",
    "x=input('Enter the operator: ')\n",
    "b=int(input(\"Enter the value of b: \"))\n",
    "if x==\"+\":\n",
    "    print(a+b)\n",
    "elif x==\"-\":\n",
    "    print(a-b)\n",
    "elif x==\"/\":\n",
    "    print(a/b)\n",
    "elif x==\"*\":\n",
    "    print(a*b)\n",
    "elif x==\"%\":\n",
    "    print(a/b*100,\"%\")\n",
    "else:\n",
    "    print(\"'invalid text'\", x)"
   ]
  },
  {
   "cell_type": "markdown",
   "id": "a149e83e",
   "metadata": {},
   "source": [
    "### Dictoionary  "
   ]
  },
  {
   "cell_type": "code",
   "execution_count": 34,
   "id": "cb4dbffb",
   "metadata": {},
   "outputs": [
    {
     "name": "stdout",
     "output_type": "stream",
     "text": [
      "November\n"
     ]
    }
   ],
   "source": [
    "month = {\n",
    "    \"jan\": \"January\",\n",
    "    \"Feb\": \"February\",\n",
    "    \"Mar\": \"March\",\n",
    "    \"Apr\": \"April\",\n",
    "    \"May\": \"May\",\n",
    "    \"Jun\": \"June\",\n",
    "    \"Jul\": \"July\",\n",
    "    \"Aug\": \"August\",\n",
    "    \"Sep\": \"September\",\n",
    "    \"Oct\": \"October\",\n",
    "    \"Nov\": \"November\",\n",
    "    \"Dec\": \"December\"\n",
    "}\n",
    "print(month[\"Nov\"])"
   ]
  },
  {
   "cell_type": "markdown",
   "id": "8abd1014",
   "metadata": {},
   "source": [
    "* /Function in Dictionary\n",
    "* .get(\"Key name\")\n",
    "\n",
    "we can also edit the text if we entered invalid value by doing -.get(\"Key name\",\"Invalid Key\")\n"
   ]
  },
  {
   "cell_type": "markdown",
   "id": "2086029f",
   "metadata": {},
   "source": [
    "### While Loop"
   ]
  },
  {
   "cell_type": "code",
   "execution_count": 6,
   "id": "26981159",
   "metadata": {
    "scrolled": false
   },
   "outputs": [
    {
     "name": "stdout",
     "output_type": "stream",
     "text": [
      "1\n",
      "2\n",
      "3\n",
      "4\n",
      "5\n",
      "6\n",
      "7\n",
      "8\n",
      "9\n",
      "10\n"
     ]
    }
   ],
   "source": [
    "i = 1\n",
    "while i<=10:\n",
    "    print(i)\n",
    "    i += 1"
   ]
  },
  {
   "cell_type": "markdown",
   "id": "77e26ec6",
   "metadata": {},
   "source": [
    "### Guessing Game "
   ]
  },
  {
   "cell_type": "code",
   "execution_count": 17,
   "id": "0de3e0cb",
   "metadata": {},
   "outputs": [
    {
     "name": "stdout",
     "output_type": "stream",
     "text": [
      "Enter guess: sahil\n",
      "Enter guess: sahil\n",
      "Enter guess: sahil\n",
      "Out of Guesses, You Lose!\n"
     ]
    }
   ],
   "source": [
    "secret_word = \"giraffe\"\n",
    "guess = \"\"\n",
    "guess_count = 0\n",
    "guess_limit = 3\n",
    "out_of_guesses = \"\"\n",
    "while guess != secret_word and not(out_of_guesses):\n",
    "    if guess_count < guess_limit:\n",
    "        guess = input('Enter guess: ')\n",
    "        guess_count += 1\n",
    "    else:\n",
    "        out_of_guesses = \"True\"\n",
    "if out_of_guesses:\n",
    "    print(\"Out of Guesses, You Lose!\")\n",
    "else:\n",
    "    print(\"You win!\")\n",
    "    "
   ]
  },
  {
   "cell_type": "markdown",
   "id": "4102746f",
   "metadata": {},
   "source": [
    "### For Loop "
   ]
  },
  {
   "cell_type": "code",
   "execution_count": 3,
   "id": "f749ec3e",
   "metadata": {},
   "outputs": [
    {
     "name": "stdout",
     "output_type": "stream",
     "text": [
      "S\n",
      "a\n",
      "h\n",
      "i\n",
      "l\n",
      " \n",
      "A\n",
      "c\n",
      "h\n",
      "a\n",
      "r\n",
      "y\n",
      "a\n"
     ]
    }
   ],
   "source": [
    "for letter in \"Sahil Acharya\":\n",
    "    print(letter)"
   ]
  },
  {
   "cell_type": "code",
   "execution_count": 11,
   "id": "571581fd",
   "metadata": {},
   "outputs": [
    {
     "name": "stdout",
     "output_type": "stream",
     "text": [
      "4\n",
      "Sahil\n",
      "Avi\n",
      "Tanseng\n",
      "Manish\n"
     ]
    }
   ],
   "source": [
    "friends = [\"Sahil\",\"Avi\",\"Tanseng\",\"Manish\"]\n",
    "for friend in friends:\n",
    "    print(friend)"
   ]
  },
  {
   "cell_type": "code",
   "execution_count": 6,
   "id": "f3d9687f",
   "metadata": {
    "scrolled": true
   },
   "outputs": [
    {
     "name": "stdout",
     "output_type": "stream",
     "text": [
      "3\n",
      "4\n",
      "5\n",
      "6\n",
      "7\n",
      "8\n",
      "9\n"
     ]
    }
   ],
   "source": [
    "for index in range(3,10):\n",
    "    print(index)"
   ]
  },
  {
   "cell_type": "markdown",
   "id": "fd052a67",
   "metadata": {},
   "source": [
    "now in this program it will print (3,9) it will not include 10\n",
    "* what ever value you include in 2th position will not included"
   ]
  },
  {
   "cell_type": "code",
   "execution_count": 117,
   "id": "4b345465",
   "metadata": {
    "scrolled": true
   },
   "outputs": [
    {
     "name": "stdout",
     "output_type": "stream",
     "text": [
      "1 Sahil has 5 letters\n",
      "2 Avi has 3 letters\n",
      "3 Tanseng has 7 letters\n",
      "4 Manish has 6 letters\n",
      "5 hari has 4 letters\n",
      "6 Shyam has 5 letters\n"
     ]
    }
   ],
   "source": [
    "friends = [\"Sahil\",\"Avi\",\"Tanseng\",\"Manish\",\"hari\",\"Shyam\"]\n",
    "i = 1\n",
    "\n",
    "while i<len(friends):\n",
    "    for index in friends:\n",
    "            print(i,index,\"has\",len(index),\"letters\")\n",
    "            i +=1\n",
    "            "
   ]
  },
  {
   "cell_type": "code",
   "execution_count": 108,
   "id": "3290390c",
   "metadata": {
    "scrolled": false
   },
   "outputs": [
    {
     "name": "stdout",
     "output_type": "stream",
     "text": [
      "Sahil\n",
      "Avi\n",
      "Tanseng\n",
      "Manish\n"
     ]
    }
   ],
   "source": [
    "friends = [\"Sahil\",\"Avi\",\"Tanseng\",\"Manish\"]\n",
    "for index in range(len(friends)):\n",
    "    print(friends[index])"
   ]
  },
  {
   "cell_type": "markdown",
   "id": "f65af770",
   "metadata": {},
   "source": [
    "### Simple Translator "
   ]
  },
  {
   "cell_type": "code",
   "execution_count": 5,
   "id": "2592cea9",
   "metadata": {
    "scrolled": true
   },
   "outputs": [
    {
     "name": "stdout",
     "output_type": "stream",
     "text": [
      "Enter the quatei am sahil acharya. I live in Kathmandu Nepal. \n",
      "g gm sghgl gchgryg. G lgvg gn Kgthmgndg Ngpgl. \n"
     ]
    }
   ],
   "source": [
    "def translator(quate):\n",
    "    conveter = \"\"\n",
    "    for letter in quate:\n",
    "        if letter.lower() in \"aeiou\":\n",
    "            if letter.isupper():\n",
    "                conveter = conveter + \"G\"\n",
    "            else:\n",
    "                conveter = conveter + \"g\"\n",
    "        else:\n",
    "            conveter = conveter + letter\n",
    "    return conveter\n",
    "print(translator(input(\"Enter the quate\")))"
   ]
  },
  {
   "cell_type": "markdown",
   "id": "97a495cc",
   "metadata": {},
   "source": [
    "### Lip year or Not "
   ]
  },
  {
   "cell_type": "code",
   "execution_count": 8,
   "id": "0bbccffc",
   "metadata": {
    "scrolled": true
   },
   "outputs": [
    {
     "name": "stdout",
     "output_type": "stream",
     "text": [
      "Enter a year5\n",
      "5 is not a lipyear\n"
     ]
    }
   ],
   "source": [
    "lipyear=int(input(\"Enter a year\"))\n",
    "if lipyear%4 ==0:\n",
    "    print(lipyear,\"is a lipyear\")\n",
    "else:\n",
    "    print(lipyear,\"is not a lipyear\")"
   ]
  },
  {
   "cell_type": "markdown",
   "id": "77e4f1f5",
   "metadata": {},
   "source": [
    "### Exceptation Haldeling"
   ]
  },
  {
   "cell_type": "code",
   "execution_count": 22,
   "id": "febff44f",
   "metadata": {},
   "outputs": [
    {
     "name": "stdout",
     "output_type": "stream",
     "text": [
      "division by zero\n"
     ]
    }
   ],
   "source": [
    "try:\n",
    "    answer = 10/0\n",
    "    number = int(input(\"Enter a number: \"))\n",
    "    print(number)\n",
    "except ZeroDivisionError as err:\n",
    "    print(err)\n",
    "except ValueError:\n",
    "    print(\"invalid input\")\n"
   ]
  },
  {
   "cell_type": "markdown",
   "id": "fb6665a9",
   "metadata": {},
   "source": [
    "### Removing duplicate "
   ]
  },
  {
   "cell_type": "code",
   "execution_count": 295,
   "id": "f8a939f8",
   "metadata": {
    "scrolled": true
   },
   "outputs": [
    {
     "name": "stdout",
     "output_type": "stream",
     "text": [
      "[1, 'sahil', 2, 3, 34, 4, 5, 6, 7, 8, 9, 10]\n"
     ]
    }
   ],
   "source": [
    "def rmdup(numbers):\n",
    "    unique = []\n",
    "    for item in numbers:\n",
    "        if item  not in unique:\n",
    "            unique.append(item)\n",
    "    return unique\n",
    "n=(1,1,1,\"sahil\",2,2,2,3,3,3,34,4,4,1,5,1,2,3,4,5,6,7,8,9,10)\n",
    "print(rmdup(n))\n",
    "            "
   ]
  },
  {
   "cell_type": "markdown",
   "id": "781f1e0f",
   "metadata": {},
   "source": [
    "### word Count "
   ]
  },
  {
   "cell_type": "code",
   "execution_count": 32,
   "id": "e64ee5f5",
   "metadata": {},
   "outputs": [
    {
     "name": "stdout",
     "output_type": "stream",
     "text": [
      "11\n"
     ]
    }
   ],
   "source": [
    "list = (\"Sahil is a good boy. He is reading in Texas College.\")\n",
    "count = 0\n",
    "for words in list:\n",
    "    if words == \" \":\n",
    "        count += 1\n",
    "count += 1\n",
    "print(count)"
   ]
  },
  {
   "cell_type": "markdown",
   "id": "f7ba0378",
   "metadata": {},
   "source": [
    "### Mean/Averege"
   ]
  },
  {
   "cell_type": "code",
   "execution_count": null,
   "id": "b2942732",
   "metadata": {},
   "outputs": [],
   "source": [
    "no = int(input(\"how many numbers you wnat to have: \"))\n",
    "sum = 0\n",
    "for n in range (0,no):\n",
    "    ele = int(input(\"Enter the numbers: \"))\n",
    "    sum += ele\n",
    "avg = sum/no\n",
    "print(\"Average of the given numbers is: \",round(avg,2))"
   ]
  },
  {
   "cell_type": "code",
   "execution_count": 100,
   "id": "f8b1294b",
   "metadata": {},
   "outputs": [
    {
     "name": "stdout",
     "output_type": "stream",
     "text": [
      "12\n",
      "54\n",
      "13\n"
     ]
    }
   ],
   "source": [
    "nums = [12,54,13,-12,1]\n",
    "for num in nums:\n",
    "    if num<0:\n",
    "        break\n",
    "    print(num)"
   ]
  },
  {
   "cell_type": "markdown",
   "id": "cce32fa5",
   "metadata": {},
   "source": [
    "### Reading Files\n"
   ]
  },
  {
   "cell_type": "markdown",
   "id": "7305222e",
   "metadata": {},
   "source": [
    "### Modes"
   ]
  },
  {
   "cell_type": "markdown",
   "id": "bd314815",
   "metadata": {},
   "source": [
    "#### open(\"file.pdf\",\"r\") = read files\n",
    "#### open(\"File.pdf\",\"w\") = over write file\n",
    "#### open(\"File.pdf\",\"w\") = create new file if you give new name or rename existing file\n",
    "#### open(\"file\".pdf\",\"a\") = append/write \n"
   ]
  },
  {
   "cell_type": "markdown",
   "id": "b7360b0f",
   "metadata": {},
   "source": [
    "### Functions of files\n",
    "* read() = read data inside the file\n",
    "* readline() = read 1 lines of the file data\n",
    "* readlines() = it will take each line and put them inside of the array\n",
    "* readlines()[1] = it will show the data inside the index 1\n",
    "\n"
   ]
  },
  {
   "cell_type": "code",
   "execution_count": 39,
   "id": "e674ed93",
   "metadata": {
    "scrolled": false
   },
   "outputs": [
    {
     "name": "stdout",
     "output_type": "stream",
     "text": [
      "\n",
      "\n",
      "Sahil Acharya - hacker\n"
     ]
    }
   ],
   "source": [
    "employee_file = open(\"backup\",\"r\")\n",
    "for employee in employee_file.readlines():\n",
    "    print(employee)\n",
    "employee_file.close()"
   ]
  },
  {
   "cell_type": "code",
   "execution_count": 85,
   "id": "dca2658b",
   "metadata": {},
   "outputs": [],
   "source": [
    "employee_file = open(\"backup.txt\",\"a\")\n",
    "employee_file.write(\"\\nSahil Acharya - hacker\")\n",
    "employee_file.close()"
   ]
  },
  {
   "cell_type": "code",
   "execution_count": 115,
   "id": "8eb212b3",
   "metadata": {},
   "outputs": [],
   "source": [
    "hacker_file=open(\"word_list\",\"w\")\n",
    "hacker_file.write(\"\\nI am a hacker whose name is sahil\")\n",
    "hacker_file.close()"
   ]
  },
  {
   "cell_type": "markdown",
   "id": "775eea5e",
   "metadata": {},
   "source": [
    "### Modules and Pip"
   ]
  },
  {
   "cell_type": "code",
   "execution_count": 290,
   "id": "b38a9591",
   "metadata": {},
   "outputs": [],
   "source": [
    "import random\n",
    "\n",
    "feet_in_mile =5280\n",
    "meters_in_kilometer = 1000\n",
    "beatles = [\"Birtamode\",\"butabari\",\"dharan\",\"kakarvitta\"]\n",
    "\n",
    "def power(basenum,pownum):\n",
    "    result =1\n",
    "    for i in range(pownum):\n",
    "        result = result * basenum\n",
    "    return result\n",
    "\n",
    "def get_file_ext(filename):\n",
    "    return filename[filename.index(\".\")+1:]\n",
    "\n",
    "def roll_dice(num):\n",
    "    return random.randint(1,num)"
   ]
  },
  {
   "cell_type": "markdown",
   "id": "681d92d2",
   "metadata": {},
   "source": [
    "### Classes & Objects"
   ]
  },
  {
   "cell_type": "code",
   "execution_count": 4,
   "id": "4facc0eb",
   "metadata": {},
   "outputs": [],
   "source": [
    "class Student:\n",
    "    \n",
    "    def __init__(self, name, major, gpa, is_on_probation):\n",
    "        self.name = name\n",
    "        self.major = major\n",
    "        self.gpa = gpa\n",
    "        self.is_on_probation = is_on_probation"
   ]
  },
  {
   "cell_type": "code",
   "execution_count": null,
   "id": "d6f2af96",
   "metadata": {},
   "outputs": [],
   "source": []
  },
  {
   "cell_type": "code",
   "execution_count": null,
   "id": "84835b19",
   "metadata": {},
   "outputs": [],
   "source": []
  },
  {
   "cell_type": "code",
   "execution_count": null,
   "id": "4a011683",
   "metadata": {},
   "outputs": [],
   "source": []
  }
 ],
 "metadata": {
  "kernelspec": {
   "display_name": "Python 3 (ipykernel)",
   "language": "python",
   "name": "python3"
  },
  "language_info": {
   "codemirror_mode": {
    "name": "ipython",
    "version": 3
   },
   "file_extension": ".py",
   "mimetype": "text/x-python",
   "name": "python",
   "nbconvert_exporter": "python",
   "pygments_lexer": "ipython3",
   "version": "3.9.13"
  }
 },
 "nbformat": 4,
 "nbformat_minor": 5
}
